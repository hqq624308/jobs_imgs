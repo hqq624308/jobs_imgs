{
 "cells": [
  {
   "cell_type": "code",
   "execution_count": 5,
   "metadata": {},
   "outputs": [
    {
     "name": "stderr",
     "output_type": "stream",
     "text": [
      "C:\\Users\\97696\\AppData\\Local\\Temp\\ipykernel_53620\\1552353081.py:14: DeprecationWarning: executable_path has been deprecated, please pass in a Service object\n",
      "  driver = webdriver.Chrome(path_to_chromedriver, options=options)\n"
     ]
    },
    {
     "ename": "TimeoutException",
     "evalue": "Message: timeout: Timed out receiving message from renderer: 299.449\n  (Session info: headless chrome=112.0.5615.138)\nStacktrace:\nBacktrace:\n\tGetHandleVerifier [0x00C5DCE3+50899]\n\t(No symbol) [0x00BEE111]\n\t(No symbol) [0x00AF5588]\n\t(No symbol) [0x00AE83BF]\n\t(No symbol) [0x00AE820C]\n\t(No symbol) [0x00AE6F06]\n\t(No symbol) [0x00AE778A]\n\t(No symbol) [0x00AF06F5]\n\t(No symbol) [0x00AFAB28]\n\t(No symbol) [0x00AFD4D6]\n\t(No symbol) [0x00AE7AE3]\n\t(No symbol) [0x00AFA9F1]\n\t(No symbol) [0x00B4E219]\n\t(No symbol) [0x00B3B6F6]\n\t(No symbol) [0x00B17708]\n\t(No symbol) [0x00B1886D]\n\tGetHandleVerifier [0x00EC3EAE+2566302]\n\tGetHandleVerifier [0x00EF92B1+2784417]\n\tGetHandleVerifier [0x00EF327C+2759788]\n\tGetHandleVerifier [0x00CF5740+672048]\n\t(No symbol) [0x00BF8872]\n\t(No symbol) [0x00BF41C8]\n\t(No symbol) [0x00BF42AB]\n\t(No symbol) [0x00BE71B7]\n\tBaseThreadInitThunk [0x75B46739+25]\n\tRtlGetFullPathName_UEx [0x77D78E7F+1215]\n\tRtlGetFullPathName_UEx [0x77D78E4D+1165]\n",
     "output_type": "error",
     "traceback": [
      "\u001b[1;31m---------------------------------------------------------------------------\u001b[0m",
      "\u001b[1;31mTimeoutException\u001b[0m                          Traceback (most recent call last)",
      "Cell \u001b[1;32mIn[5], line 18\u001b[0m\n\u001b[0;32m     16\u001b[0m \u001b[39m# 打开网页\u001b[39;00m\n\u001b[0;32m     17\u001b[0m urls \u001b[39m=\u001b[39m \u001b[39m'\u001b[39m\u001b[39mhttp://www.earnwithimages.com/\u001b[39m\u001b[39m'\u001b[39m\n\u001b[1;32m---> 18\u001b[0m driver\u001b[39m.\u001b[39;49mget(urls)\n\u001b[0;32m     19\u001b[0m time\u001b[39m.\u001b[39msleep(\u001b[39m2\u001b[39m)\n\u001b[0;32m     21\u001b[0m \u001b[39m# 获取页面高度\u001b[39;00m\n",
      "File \u001b[1;32mc:\\Users\\97696\\AppData\\Local\\Programs\\Python\\Python311\\Lib\\site-packages\\selenium\\webdriver\\remote\\webdriver.py:449\u001b[0m, in \u001b[0;36mWebDriver.get\u001b[1;34m(self, url)\u001b[0m\n\u001b[0;32m    447\u001b[0m \u001b[39mdef\u001b[39;00m \u001b[39mget\u001b[39m(\u001b[39mself\u001b[39m, url: \u001b[39mstr\u001b[39m) \u001b[39m-\u001b[39m\u001b[39m>\u001b[39m \u001b[39mNone\u001b[39;00m:\n\u001b[0;32m    448\u001b[0m \u001b[39m    \u001b[39m\u001b[39m\"\"\"Loads a web page in the current browser session.\"\"\"\u001b[39;00m\n\u001b[1;32m--> 449\u001b[0m     \u001b[39mself\u001b[39;49m\u001b[39m.\u001b[39;49mexecute(Command\u001b[39m.\u001b[39;49mGET, {\u001b[39m\"\u001b[39;49m\u001b[39murl\u001b[39;49m\u001b[39m\"\u001b[39;49m: url})\n",
      "File \u001b[1;32mc:\\Users\\97696\\AppData\\Local\\Programs\\Python\\Python311\\Lib\\site-packages\\selenium\\webdriver\\remote\\webdriver.py:440\u001b[0m, in \u001b[0;36mWebDriver.execute\u001b[1;34m(self, driver_command, params)\u001b[0m\n\u001b[0;32m    438\u001b[0m response \u001b[39m=\u001b[39m \u001b[39mself\u001b[39m\u001b[39m.\u001b[39mcommand_executor\u001b[39m.\u001b[39mexecute(driver_command, params)\n\u001b[0;32m    439\u001b[0m \u001b[39mif\u001b[39;00m response:\n\u001b[1;32m--> 440\u001b[0m     \u001b[39mself\u001b[39;49m\u001b[39m.\u001b[39;49merror_handler\u001b[39m.\u001b[39;49mcheck_response(response)\n\u001b[0;32m    441\u001b[0m     response[\u001b[39m\"\u001b[39m\u001b[39mvalue\u001b[39m\u001b[39m\"\u001b[39m] \u001b[39m=\u001b[39m \u001b[39mself\u001b[39m\u001b[39m.\u001b[39m_unwrap_value(response\u001b[39m.\u001b[39mget(\u001b[39m\"\u001b[39m\u001b[39mvalue\u001b[39m\u001b[39m\"\u001b[39m, \u001b[39mNone\u001b[39;00m))\n\u001b[0;32m    442\u001b[0m     \u001b[39mreturn\u001b[39;00m response\n",
      "File \u001b[1;32mc:\\Users\\97696\\AppData\\Local\\Programs\\Python\\Python311\\Lib\\site-packages\\selenium\\webdriver\\remote\\errorhandler.py:245\u001b[0m, in \u001b[0;36mErrorHandler.check_response\u001b[1;34m(self, response)\u001b[0m\n\u001b[0;32m    243\u001b[0m         alert_text \u001b[39m=\u001b[39m value[\u001b[39m\"\u001b[39m\u001b[39malert\u001b[39m\u001b[39m\"\u001b[39m]\u001b[39m.\u001b[39mget(\u001b[39m\"\u001b[39m\u001b[39mtext\u001b[39m\u001b[39m\"\u001b[39m)\n\u001b[0;32m    244\u001b[0m     \u001b[39mraise\u001b[39;00m exception_class(message, screen, stacktrace, alert_text)  \u001b[39m# type: ignore[call-arg]  # mypy is not smart enough here\u001b[39;00m\n\u001b[1;32m--> 245\u001b[0m \u001b[39mraise\u001b[39;00m exception_class(message, screen, stacktrace)\n",
      "\u001b[1;31mTimeoutException\u001b[0m: Message: timeout: Timed out receiving message from renderer: 299.449\n  (Session info: headless chrome=112.0.5615.138)\nStacktrace:\nBacktrace:\n\tGetHandleVerifier [0x00C5DCE3+50899]\n\t(No symbol) [0x00BEE111]\n\t(No symbol) [0x00AF5588]\n\t(No symbol) [0x00AE83BF]\n\t(No symbol) [0x00AE820C]\n\t(No symbol) [0x00AE6F06]\n\t(No symbol) [0x00AE778A]\n\t(No symbol) [0x00AF06F5]\n\t(No symbol) [0x00AFAB28]\n\t(No symbol) [0x00AFD4D6]\n\t(No symbol) [0x00AE7AE3]\n\t(No symbol) [0x00AFA9F1]\n\t(No symbol) [0x00B4E219]\n\t(No symbol) [0x00B3B6F6]\n\t(No symbol) [0x00B17708]\n\t(No symbol) [0x00B1886D]\n\tGetHandleVerifier [0x00EC3EAE+2566302]\n\tGetHandleVerifier [0x00EF92B1+2784417]\n\tGetHandleVerifier [0x00EF327C+2759788]\n\tGetHandleVerifier [0x00CF5740+672048]\n\t(No symbol) [0x00BF8872]\n\t(No symbol) [0x00BF41C8]\n\t(No symbol) [0x00BF42AB]\n\t(No symbol) [0x00BE71B7]\n\tBaseThreadInitThunk [0x75B46739+25]\n\tRtlGetFullPathName_UEx [0x77D78E7F+1215]\n\tRtlGetFullPathName_UEx [0x77D78E4D+1165]\n"
     ]
    }
   ],
   "source": [
    "from selenium import webdriver\n",
    "from selenium.webdriver.chrome.options import Options\n",
    "import time\n",
    "\n",
    "# 创建Chrome浏览器选项\n",
    "options = Options()\n",
    "options.add_argument('--headless')  # 无头模式，不显示浏览器界面\n",
    "options.add_argument('--disable-gpu')  # 禁用GPU加速\n",
    "\n",
    "# 模拟手机浏览器\n",
    "options.add_argument('--user-agent=Mozilla/5.0 (iPhone; CPU iPhone OS 14_5 like Mac OS X) AppleWebKit/605.1.15 (KHTML, like Gecko) Version/14.1 Mobile/15E148 Safari/604.1')\n",
    "path_to_chromedriver = r'C:\\Users\\97696\\Downloads\\chromedriver.exe'\n",
    "# 创建Chrome浏览器实例\n",
    "driver = webdriver.Chrome(path_to_chromedriver, options=options)\n",
    "\n",
    "# 打开网页\n",
    "urls = 'http://www.earnwithimages.com/'\n",
    "driver.get(urls)\n",
    "time.sleep(2)\n",
    "\n",
    "# 获取页面高度\n",
    "scroll_height = driver.execute_script(\"return document.documentElement.scrollHeight\")\n",
    "\n",
    "# 设置视口大小和网页高度\n",
    "driver.set_window_size(375, scroll_height)\n",
    "\n",
    "# 截取整个网页的完整长屏\n",
    "driver.save_screenshot('screenshot_m3.png')\n",
    "\n",
    "# 关闭浏览器\n",
    "driver.quit()\n"
   ]
  },
  {
   "cell_type": "code",
   "execution_count": 7,
   "metadata": {},
   "outputs": [
    {
     "name": "stdout",
     "output_type": "stream",
     "text": [
      "httpscstv13com8443\n"
     ]
    }
   ],
   "source": [
    "# st = 'cstv13.com:8443,asdf'\n",
    "st = 'https://cstv13.com:8443/'\n",
    "import re \n",
    "result = ''.join(re.findall(r'[A-Za-z0-9]', st)) \n",
    "print(result)\n"
   ]
  },
  {
   "cell_type": "code",
   "execution_count": 3,
   "metadata": {},
   "outputs": [
    {
     "name": "stdout",
     "output_type": "stream",
     "text": [
      "helloworld545234\n"
     ]
    }
   ],
   "source": [
    "import re\n",
    "st = \"hello,world!!%[545]你好234世界。。。\"\n",
    "result = ''.join(re.findall(r'[A-Za-z0-9]', st)) \n",
    "print(result)"
   ]
  },
  {
   "cell_type": "code",
   "execution_count": 9,
   "metadata": {},
   "outputs": [
    {
     "name": "stderr",
     "output_type": "stream",
     "text": [
      "C:\\Users\\97696\\AppData\\Local\\Temp\\ipykernel_45908\\1648690827.py:10: DeprecationWarning: executable_path has been deprecated, please pass in a Service object\n",
      "  browser = webdriver.Chrome(chromedriver)\n"
     ]
    }
   ],
   "source": [
    "# -*- coding: utf-8 -*-\n",
    "from selenium import webdriver\n",
    "import time\n",
    "\n",
    "\n",
    "def take_screenshot(url, save_fn=\"capture.png\"):\n",
    "    # browser = webdriver.Firefox() # Get local session of firefox\n",
    "    #谷歌浏览器截取当前窗口网页\n",
    "    chromedriver = r'C:\\Users\\97696\\Downloads\\chromedriver.exe'\n",
    "    browser = webdriver.Chrome(chromedriver)\n",
    "    #phantomjs截取整张网页\n",
    "    # browser = webdriver.PhantomJS()\n",
    "    browser.set_window_size(1200, 900)\n",
    "    browser.get(url) # Load page\n",
    "    #将页面的滚动条拖到最下方，然后再拖回顶部\n",
    "    browser.execute_script(\"\"\"\n",
    "        (function () {\n",
    "            var y = 0;\n",
    "            var step = 100;\n",
    "            window.scroll(0, 0);\n",
    "\n",
    "            function f() {\n",
    "                if (y < document.body.scrollHeight) {\n",
    "                    y += step;\n",
    "                    window.scroll(0, y);\n",
    "                    setTimeout(f, 100);\n",
    "                } else {\n",
    "                    window.scroll(0, 0);\n",
    "                    document.title += \"scroll-done\";\n",
    "                }\n",
    "            }\n",
    "\n",
    "            setTimeout(f, 1000);\n",
    "        })();\n",
    "    \"\"\")\n",
    "\n",
    "    for i in range(30):\n",
    "        if \"scroll-done\" in browser.title:\n",
    "            break\n",
    "        time.sleep(10)\n",
    "\n",
    "    browser.save_screenshot(save_fn)\n",
    "    browser.close()\n",
    "\n",
    "\n",
    "if __name__ == \"__main__\":\n",
    "\n",
    "    take_screenshot(\"https://www.zhihu.com/tardis/zm/art/460551008?source_id=1003\")"
   ]
  },
  {
   "cell_type": "code",
   "execution_count": 2,
   "metadata": {},
   "outputs": [
    {
     "name": "stderr",
     "output_type": "stream",
     "text": [
      "C:\\Users\\97696\\AppData\\Local\\Temp\\ipykernel_61952\\3328496040.py:19: DeprecationWarning: executable_path has been deprecated, please pass in a Service object\n",
      "  driver = webdriver.Chrome(path_to_chromedriver, options=chrome_options)\n"
     ]
    }
   ],
   "source": [
    "from selenium import webdriver\n",
    "from selenium.webdriver.chrome.options import Options\n",
    "from selenium.webdriver.common.by import By\n",
    "from selenium.webdriver.support.ui import WebDriverWait\n",
    "from selenium.webdriver.support import expected_conditions as EC\n",
    "\n",
    "# 设置手机浏览器选项\n",
    "mobile_emulation = {\n",
    "    \"deviceName\": \"iPhone X\"\n",
    "}\n",
    "\n",
    "chrome_options = Options()\n",
    "chrome_options.add_experimental_option(\"mobileEmulation\", mobile_emulation)\n",
    "\n",
    "# 启动Chrome浏览器\n",
    "# driver = webdriver.Chrome(executable_path='path_to_chromedriver', options=chrome_options)\n",
    "path_to_chromedriver = r'C:\\Users\\97696\\Downloads\\chromedriver.exe'\n",
    "# 创建Chrome浏览器实例\n",
    "driver = webdriver.Chrome(path_to_chromedriver, options=chrome_options)\n",
    "\n",
    "# 打开网站\n",
    "# driver.get('https://cstv13.com:8443/')\n",
    "driver.get('http://www.earnwithimages.com/')\n",
    "\n",
    "# 等待页面加载完成\n",
    "wait = WebDriverWait(driver, 10)\n",
    "wait.until(EC.presence_of_element_located((By.TAG_NAME, \"body\")))\n",
    "\n",
    "# 设置长宽为手机屏幕的尺寸\n",
    "body = driver.find_element(By.TAG_NAME, 'body')\n",
    "height = body.size[\"height\"]\n",
    "width = body.size[\"width\"]\n",
    "driver.set_window_size(width, height)\n",
    "\n",
    "# 截取整个页面的长图\n",
    "screenshot = driver.find_element(By.TAG_NAME, 'body').screenshot_as_png\n",
    "\n",
    "# 保存截图\n",
    "with open(\"screenshot.png\", \"wb\") as file:\n",
    "    file.write(screenshot)\n",
    "\n",
    "# 关闭浏览器\n",
    "driver.quit()\n"
   ]
  },
  {
   "cell_type": "code",
   "execution_count": 66,
   "metadata": {},
   "outputs": [
    {
     "name": "stdout",
     "output_type": "stream",
     "text": [
      "[198 230 252]\n"
     ]
    }
   ],
   "source": [
    "import cv2\n",
    "img = cv2.imread('./httpah1010com.png')\n",
    "h,w,c = img.shape\n",
    "pixel = img[300][200]\n",
    "print(pixel)"
   ]
  },
  {
   "cell_type": "code",
   "execution_count": 4,
   "metadata": {},
   "outputs": [
    {
     "name": "stdout",
     "output_type": "stream",
     "text": [
      "(100, 10)\n",
      "246000\n"
     ]
    }
   ],
   "source": [
    "import cv2\n",
    "import numpy as np \n",
    "img = cv2.imread('./httpah1010com.png')\n",
    "h,w,c = img.shape\n",
    "# 循环遍历图像的每个像素\n",
    "# for y in range(h):\n",
    "#     target = img[y][30][0]\n",
    "#     for i in range(100):\n",
    "#         for j in range(200):\n",
    "#             if img[y+i][j][0]==target:\n",
    "#                 continue\n",
    "#             else:\n",
    "#                 break\n",
    "        \n",
    "print(img[9000:9100,300:310,0].shape)\n",
    "# print(img[9000:9100,345:355,0])\n",
    "cv2.imwrite(\"./cv_cut.jpg\",img[:4800])\n",
    "get = np.sum(img[9000:9100,300:310,0])\n",
    "print(get)"
   ]
  },
  {
   "cell_type": "code",
   "execution_count": 61,
   "metadata": {},
   "outputs": [],
   "source": [
    "import numpy as np\n",
    "t = [[246,246, 246, 246, 246, 246, 246, 246 ,246 ,246],\n",
    " [246 ,246 ,246 ,246 ,246 ,246 ,246 ,246 ,246 ,246,],\n",
    " [246 ,246, 246, 246, 246 ,246, 246, 246, 246, 246]]\n",
    "t_np = np.array(t)"
   ]
  },
  {
   "cell_type": "code",
   "execution_count": 62,
   "metadata": {},
   "outputs": [
    {
     "name": "stdout",
     "output_type": "stream",
     "text": [
      "(3, 10)\n"
     ]
    }
   ],
   "source": [
    "print(t_np.shape)\n",
    "r,c = t_np.shape\n",
    "target = t_np[0][0]\n",
    "for i in range(r):\n",
    "    for j in range(c):\n",
    "        if t_np[i][j]==target:\n",
    "            continue\n",
    "        else:\n",
    "            break"
   ]
  },
  {
   "cell_type": "code",
   "execution_count": null,
   "metadata": {},
   "outputs": [],
   "source": []
  }
 ],
 "metadata": {
  "kernelspec": {
   "display_name": "Python 3",
   "language": "python",
   "name": "python3"
  },
  "language_info": {
   "codemirror_mode": {
    "name": "ipython",
    "version": 3
   },
   "file_extension": ".py",
   "mimetype": "text/x-python",
   "name": "python",
   "nbconvert_exporter": "python",
   "pygments_lexer": "ipython3",
   "version": "3.11.2"
  },
  "orig_nbformat": 4
 },
 "nbformat": 4,
 "nbformat_minor": 2
}
