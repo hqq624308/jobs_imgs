{
 "cells": [
  {
   "cell_type": "code",
   "execution_count": 1,
   "metadata": {},
   "outputs": [
    {
     "name": "stderr",
     "output_type": "stream",
     "text": [
      "C:\\Users\\97696\\AppData\\Local\\Temp\\ipykernel_45908\\2598003019.py:13: DeprecationWarning: executable_path has been deprecated, please pass in a Service object\n",
      "  driver = webdriver.Chrome(path_to_chromedriver, options=options)\n"
     ]
    }
   ],
   "source": [
    "from selenium import webdriver\n",
    "from selenium.webdriver.chrome.options import Options\n",
    "import time\n",
    "\n",
    "# 创建Chrome浏览器选项\n",
    "options = Options()\n",
    "options.add_argument('--headless')  # 无头模式，不显示浏览器界面\n",
    "options.add_argument('--disable-gpu')  # 禁用GPU加速\n",
    "\n",
    "# 模拟手机浏览器\n",
    "options.add_argument('--user-agent=Mozilla/5.0 (iPhone; CPU iPhone OS 14_5 like Mac OS X) AppleWebKit/605.1.15 (KHTML, like Gecko) Version/14.1 Mobile/15E148 Safari/604.1')\n",
    "path_to_chromedriver = r'C:\\Users\\97696\\Downloads\\chromedriver.exe'\n",
    "# 创建Chrome浏览器实例\n",
    "driver = webdriver.Chrome(path_to_chromedriver, options=options)\n",
    "\n",
    "# 打开网页\n",
    "urls = 'https://cstv13.com:8443/'\n",
    "driver.get(urls)\n",
    "time.sleep(2)\n",
    "\n",
    "# 获取页面高度\n",
    "scroll_height = driver.execute_script(\"return document.documentElement.scrollHeight\")\n",
    "\n",
    "# 设置视口大小和网页高度\n",
    "driver.set_window_size(375, scroll_height)\n",
    "\n",
    "# 截取整个网页的完整长屏\n",
    "driver.save_screenshot('screenshot_m3.png')\n",
    "\n",
    "# 关闭浏览器\n",
    "driver.quit()\n"
   ]
  },
  {
   "cell_type": "code",
   "execution_count": 7,
   "metadata": {},
   "outputs": [
    {
     "name": "stdout",
     "output_type": "stream",
     "text": [
      "httpscstv13com8443\n"
     ]
    }
   ],
   "source": [
    "# st = 'cstv13.com:8443,asdf'\n",
    "st = 'https://cstv13.com:8443/'\n",
    "import re \n",
    "result = ''.join(re.findall(r'[A-Za-z0-9]', st)) \n",
    "print(result)\n"
   ]
  },
  {
   "cell_type": "code",
   "execution_count": 3,
   "metadata": {},
   "outputs": [
    {
     "name": "stdout",
     "output_type": "stream",
     "text": [
      "helloworld545234\n"
     ]
    }
   ],
   "source": [
    "import re\n",
    "st = \"hello,world!!%[545]你好234世界。。。\"\n",
    "result = ''.join(re.findall(r'[A-Za-z0-9]', st)) \n",
    "print(result)"
   ]
  },
  {
   "cell_type": "code",
   "execution_count": 9,
   "metadata": {},
   "outputs": [
    {
     "name": "stderr",
     "output_type": "stream",
     "text": [
      "C:\\Users\\97696\\AppData\\Local\\Temp\\ipykernel_45908\\1648690827.py:10: DeprecationWarning: executable_path has been deprecated, please pass in a Service object\n",
      "  browser = webdriver.Chrome(chromedriver)\n"
     ]
    }
   ],
   "source": [
    "# -*- coding: utf-8 -*-\n",
    "from selenium import webdriver\n",
    "import time\n",
    "\n",
    "\n",
    "def take_screenshot(url, save_fn=\"capture.png\"):\n",
    "    # browser = webdriver.Firefox() # Get local session of firefox\n",
    "    #谷歌浏览器截取当前窗口网页\n",
    "    chromedriver = r'C:\\Users\\97696\\Downloads\\chromedriver.exe'\n",
    "    browser = webdriver.Chrome(chromedriver)\n",
    "    #phantomjs截取整张网页\n",
    "    # browser = webdriver.PhantomJS()\n",
    "    browser.set_window_size(1200, 900)\n",
    "    browser.get(url) # Load page\n",
    "    #将页面的滚动条拖到最下方，然后再拖回顶部\n",
    "    browser.execute_script(\"\"\"\n",
    "        (function () {\n",
    "            var y = 0;\n",
    "            var step = 100;\n",
    "            window.scroll(0, 0);\n",
    "\n",
    "            function f() {\n",
    "                if (y < document.body.scrollHeight) {\n",
    "                    y += step;\n",
    "                    window.scroll(0, y);\n",
    "                    setTimeout(f, 100);\n",
    "                } else {\n",
    "                    window.scroll(0, 0);\n",
    "                    document.title += \"scroll-done\";\n",
    "                }\n",
    "            }\n",
    "\n",
    "            setTimeout(f, 1000);\n",
    "        })();\n",
    "    \"\"\")\n",
    "\n",
    "    for i in range(30):\n",
    "        if \"scroll-done\" in browser.title:\n",
    "            break\n",
    "        time.sleep(10)\n",
    "\n",
    "    browser.save_screenshot(save_fn)\n",
    "    browser.close()\n",
    "\n",
    "\n",
    "if __name__ == \"__main__\":\n",
    "\n",
    "    take_screenshot(\"https://www.zhihu.com/tardis/zm/art/460551008?source_id=1003\")"
   ]
  },
  {
   "cell_type": "code",
   "execution_count": 2,
   "metadata": {},
   "outputs": [
    {
     "name": "stderr",
     "output_type": "stream",
     "text": [
      "C:\\Users\\97696\\AppData\\Local\\Temp\\ipykernel_61952\\3328496040.py:19: DeprecationWarning: executable_path has been deprecated, please pass in a Service object\n",
      "  driver = webdriver.Chrome(path_to_chromedriver, options=chrome_options)\n"
     ]
    }
   ],
   "source": [
    "from selenium import webdriver\n",
    "from selenium.webdriver.chrome.options import Options\n",
    "from selenium.webdriver.common.by import By\n",
    "from selenium.webdriver.support.ui import WebDriverWait\n",
    "from selenium.webdriver.support import expected_conditions as EC\n",
    "\n",
    "# 设置手机浏览器选项\n",
    "mobile_emulation = {\n",
    "    \"deviceName\": \"iPhone X\"\n",
    "}\n",
    "\n",
    "chrome_options = Options()\n",
    "chrome_options.add_experimental_option(\"mobileEmulation\", mobile_emulation)\n",
    "\n",
    "# 启动Chrome浏览器\n",
    "# driver = webdriver.Chrome(executable_path='path_to_chromedriver', options=chrome_options)\n",
    "path_to_chromedriver = r'C:\\Users\\97696\\Downloads\\chromedriver.exe'\n",
    "# 创建Chrome浏览器实例\n",
    "driver = webdriver.Chrome(path_to_chromedriver, options=chrome_options)\n",
    "\n",
    "# 打开网站\n",
    "driver.get('https://cstv13.com:8443/')\n",
    "\n",
    "# 等待页面加载完成\n",
    "wait = WebDriverWait(driver, 10)\n",
    "wait.until(EC.presence_of_element_located((By.TAG_NAME, \"body\")))\n",
    "\n",
    "# 设置长宽为手机屏幕的尺寸\n",
    "body = driver.find_element(By.TAG_NAME, 'body')\n",
    "height = body.size[\"height\"]\n",
    "width = body.size[\"width\"]\n",
    "driver.set_window_size(width, height)\n",
    "\n",
    "# 截取整个页面的长图\n",
    "screenshot = driver.find_element(By.TAG_NAME, 'body').screenshot_as_png\n",
    "\n",
    "# 保存截图\n",
    "with open(\"screenshot.png\", \"wb\") as file:\n",
    "    file.write(screenshot)\n",
    "\n",
    "# 关闭浏览器\n",
    "driver.quit()\n"
   ]
  },
  {
   "cell_type": "code",
   "execution_count": 3,
   "metadata": {},
   "outputs": [],
   "source": [
    "from PIL import Image\n",
    "\n",
    "def remove_solid_color(image_path):\n",
    "    # 打开图像\n",
    "    image = Image.open(image_path)\n",
    "    \n",
    "    # 转换为RGB模式（如果不是）\n",
    "    image = image.convert(\"RGB\")\n",
    "    \n",
    "    # 获取图像的尺寸\n",
    "    width, height = image.size\n",
    "    \n",
    "    # 设置阈值，用于判断是否为全白或全黑像素\n",
    "    threshold = 5\n",
    "    \n",
    "    # 循环遍历图像的每个像素\n",
    "    for y in range(height):\n",
    "        for x in range(width):\n",
    "            # 获取像素的RGB值\n",
    "            r, g, b = image.getpixel((x, y))\n",
    "            \n",
    "            # 判断像素是否为全白或全黑\n",
    "            if abs(r - 255) < threshold and abs(g - 255) < threshold and abs(b - 255) < threshold:\n",
    "                image.putpixel((x, y), (0, 0, 0))  # 将全白像素设置为黑色\n",
    "            elif abs(r) < threshold and abs(g) < threshold and abs(b) < threshold:\n",
    "                image.putpixel((x, y), (255, 255, 255))  # 将全黑像素设置为白色\n",
    "    \n",
    "    # 保存处理后的图像\n",
    "    image.save(\"processed_image.png\")\n",
    "\n",
    "# 调用函数并传入图像路径\n",
    "remove_solid_color('./httpah1010com.png')\n"
   ]
  },
  {
   "cell_type": "code",
   "execution_count": 4,
   "metadata": {},
   "outputs": [],
   "source": [
    "from PIL import Image\n",
    "\n",
    "def crop_white_regions(image_path):\n",
    "    # 打开图像\n",
    "    image = Image.open(image_path)\n",
    "    \n",
    "    # 转换为RGB模式（如果不是）\n",
    "    image = image.convert(\"RGB\")\n",
    "    \n",
    "    # 获取图像的尺寸\n",
    "    width, height = image.size\n",
    "    \n",
    "    # 设置阈值，用于判断像素是否为白色\n",
    "    threshold = 200\n",
    "    \n",
    "    # 初始化裁剪区域的坐标\n",
    "    left = width\n",
    "    top = height\n",
    "    right = 0\n",
    "    bottom = 0\n",
    "    \n",
    "    # 循环遍历图像的每个像素\n",
    "    for y in range(height):\n",
    "        for x in range(width):\n",
    "            # 获取像素的RGB值\n",
    "            r, g, b = image.getpixel((x, y))\n",
    "            \n",
    "            # 判断像素是否为白色\n",
    "            if r >= threshold and g >= threshold and b >= threshold:\n",
    "                # 更新裁剪区域的坐标\n",
    "                left = min(left, x)\n",
    "                top = min(top, y)\n",
    "                right = max(right, x)\n",
    "                bottom = max(bottom, y)\n",
    "    \n",
    "    # 裁剪图像\n",
    "    cropped_image = image.crop((left, top, right + 1, bottom + 1))\n",
    "    \n",
    "    # 保存裁剪后的图像\n",
    "    cropped_image.save(\"cropped_image.png\")\n",
    "\n",
    "# 调用函数并传入图像路径\n",
    "crop_white_regions(\"./httpah1010com.png\")\n"
   ]
  },
  {
   "cell_type": "code",
   "execution_count": 66,
   "metadata": {},
   "outputs": [
    {
     "name": "stdout",
     "output_type": "stream",
     "text": [
      "[198 230 252]\n"
     ]
    }
   ],
   "source": [
    "import cv2\n",
    "img = cv2.imread('./httpah1010com.png')\n",
    "h,w,c = img.shape\n",
    "pixel = img[300][200]\n",
    "print(pixel)"
   ]
  },
  {
   "cell_type": "code",
   "execution_count": 57,
   "metadata": {},
   "outputs": [
    {
     "name": "stdout",
     "output_type": "stream",
     "text": [
      "[[246 246 246 246 246 246 246 246 246 246]\n",
      " [246 246 246 246 246 246 246 246 246 246]\n",
      " [246 246 246 246 246 246 246 246 246 246]\n",
      " [246 246 246 246 246 246 246 246 246 246]\n",
      " [246 246 246 246 246 246 246 246 246 246]\n",
      " [246 246 246 246 246 246 246 246 246 246]\n",
      " [246 246 246 246 246 246 246 246 246 246]\n",
      " [246 246 246 246 246 246 246 246 246 246]\n",
      " [246 246 246 246 246 246 246 246 246 246]\n",
      " [246 246 246 246 246 246 246 246 246 246]\n",
      " [246 246 246 246 246 246 246 246 246 246]\n",
      " [246 246 246 246 246 246 246 246 246 246]\n",
      " [246 246 246 246 246 246 246 246 246 246]\n",
      " [246 246 246 246 246 246 246 246 246 246]\n",
      " [246 246 246 246 246 246 246 246 246 246]\n",
      " [246 246 246 246 246 246 246 246 246 246]\n",
      " [246 246 246 246 246 246 246 246 246 246]\n",
      " [246 246 246 246 246 246 246 246 246 246]\n",
      " [246 246 246 246 246 246 246 246 246 246]\n",
      " [246 246 246 246 246 246 246 246 246 246]\n",
      " [246 246 246 246 246 246 246 246 246 246]\n",
      " [246 246 246 246 246 246 246 246 246 246]\n",
      " [246 246 246 246 246 246 246 246 246 246]\n",
      " [246 246 246 246 246 246 246 246 246 246]\n",
      " [246 246 246 246 246 246 246 246 246 246]\n",
      " [246 246 246 246 246 246 246 246 246 246]\n",
      " [246 246 246 246 246 246 246 246 246 246]\n",
      " [246 246 246 246 246 246 246 246 246 246]\n",
      " [246 246 246 246 246 246 246 246 246 246]\n",
      " [246 246 246 246 246 246 246 246 246 246]\n",
      " [246 246 246 246 246 246 246 246 246 246]\n",
      " [246 246 246 246 246 246 246 246 246 246]\n",
      " [246 246 246 246 246 246 246 246 246 246]\n",
      " [246 246 246 246 246 246 246 246 246 246]\n",
      " [246 246 246 246 246 246 246 246 246 246]\n",
      " [246 246 246 246 246 246 246 246 246 246]\n",
      " [246 246 246 246 246 246 246 246 246 246]\n",
      " [246 246 246 246 246 246 246 246 246 246]\n",
      " [246 246 246 246 246 246 246 246 246 246]\n",
      " [246 246 246 246 246 246 246 246 246 246]\n",
      " [246 246 246 246 246 246 246 246 246 246]\n",
      " [246 246 246 246 246 246 246 246 246 246]\n",
      " [246 246 246 246 246 246 246 246 246 246]\n",
      " [246 246 246 246 246 246 246 246 246 246]\n",
      " [246 246 246 246 246 246 246 246 246 246]\n",
      " [246 246 246 246 246 246 246 246 246 246]\n",
      " [246 246 246 246 246 246 246 246 246 246]\n",
      " [246 246 246 246 246 246 246 246 246 246]\n",
      " [246 246 246 246 246 246 246 246 246 246]\n",
      " [246 246 246 246 246 246 246 246 246 246]\n",
      " [246 246 246 246 246 246 246 246 246 246]\n",
      " [246 246 246 246 246 246 246 246 246 246]\n",
      " [246 246 246 246 246 246 246 246 246 246]\n",
      " [246 246 246 246 246 246 246 246 246 246]\n",
      " [246 246 246 246 246 246 246 246 246 246]\n",
      " [246 246 246 246 246 246 246 246 246 246]\n",
      " [246 246 246 246 246 246 246 246 246 246]\n",
      " [246 246 246 246 246 246 246 246 246 246]\n",
      " [246 246 246 246 246 246 246 246 246 246]\n",
      " [246 246 246 246 246 246 246 246 246 246]\n",
      " [246 246 246 246 246 246 246 246 246 246]\n",
      " [246 246 246 246 246 246 246 246 246 246]\n",
      " [246 246 246 246 246 246 246 246 246 246]\n",
      " [246 246 246 246 246 246 246 246 246 246]\n",
      " [246 246 246 246 246 246 246 246 246 246]\n",
      " [246 246 246 246 246 246 246 246 246 246]\n",
      " [246 246 246 246 246 246 246 246 246 246]\n",
      " [246 246 246 246 246 246 246 246 246 246]\n",
      " [246 246 246 246 246 246 246 246 246 246]\n",
      " [246 246 246 246 246 246 246 246 246 246]\n",
      " [246 246 246 246 246 246 246 246 246 246]\n",
      " [246 246 246 246 246 246 246 246 246 246]\n",
      " [246 246 246 246 246 246 246 246 246 246]\n",
      " [246 246 246 246 246 246 246 246 246 246]\n",
      " [246 246 246 246 246 246 246 246 246 246]\n",
      " [246 246 246 246 246 246 246 246 246 246]\n",
      " [246 246 246 246 246 246 246 246 246 246]\n",
      " [246 246 246 246 246 246 246 246 246 246]\n",
      " [246 246 246 246 246 246 246 246 246 246]\n",
      " [246 246 246 246 246 246 246 246 246 246]\n",
      " [246 246 246 246 246 246 246 246 246 246]\n",
      " [246 246 246 246 246 246 246 246 246 246]\n",
      " [246 246 246 246 246 246 246 246 246 246]\n",
      " [246 246 246 246 246 246 246 246 246 246]\n",
      " [246 246 246 246 246 246 246 246 246 246]\n",
      " [246 246 246 246 246 246 246 246 246 246]\n",
      " [246 246 246 246 246 246 246 246 246 246]\n",
      " [246 246 246 246 246 246 246 246 246 246]\n",
      " [246 246 246 246 246 246 246 246 246 246]\n",
      " [246 246 246 246 246 246 246 246 246 246]\n",
      " [246 246 246 246 246 246 246 246 246 246]\n",
      " [246 246 246 246 246 246 246 246 246 246]\n",
      " [246 246 246 246 246 246 246 246 246 246]\n",
      " [246 246 246 246 246 246 246 246 246 246]\n",
      " [246 246 246 246 246 246 246 246 246 246]\n",
      " [246 246 246 246 246 246 246 246 246 246]\n",
      " [246 246 246 246 246 246 246 246 246 246]\n",
      " [246 246 246 246 246 246 246 246 246 246]\n",
      " [246 246 246 246 246 246 246 246 246 246]\n",
      " [246 246 246 246 246 246 246 246 246 246]]\n"
     ]
    },
    {
     "data": {
      "text/plain": [
       "True"
      ]
     },
     "execution_count": 57,
     "metadata": {},
     "output_type": "execute_result"
    }
   ],
   "source": [
    "import cv2\n",
    "img = cv2.imread('./httpah1010com.png')\n",
    "h,w,c = img.shape\n",
    "# 循环遍历图像的每个像素\n",
    "for y in range(h):\n",
    "    target = img[y][30][0]\n",
    "    for i in range(100):\n",
    "        for j in range(200):\n",
    "            if img[y+i][j][0]==target:\n",
    "                continue\n",
    "            else:\n",
    "                break\n",
    "        \n",
    "print(img[9000:9100,300:310,0])\n",
    "# print(img[9000:9100,345:355,0])\n",
    "cv2.imwrite(\"./cv_cut.jpg\",img[:4800])"
   ]
  },
  {
   "cell_type": "code",
   "execution_count": 61,
   "metadata": {},
   "outputs": [],
   "source": [
    "import numpy as np\n",
    "t = [[246,246, 246, 246, 246, 246, 246, 246 ,246 ,246],\n",
    " [246 ,246 ,246 ,246 ,246 ,246 ,246 ,246 ,246 ,246,],\n",
    " [246 ,246, 246, 246, 246 ,246, 246, 246, 246, 246]]\n",
    "t_np = np.array(t)"
   ]
  },
  {
   "cell_type": "code",
   "execution_count": 62,
   "metadata": {},
   "outputs": [
    {
     "name": "stdout",
     "output_type": "stream",
     "text": [
      "(3, 10)\n"
     ]
    }
   ],
   "source": [
    "print(t_np.shape)\n",
    "r,c = t_np.shape\n",
    "target = t_np[0][0]\n",
    "for i in range(r):\n",
    "    for j in range(c):\n",
    "        if t_np[i][j]==target:\n",
    "            continue\n",
    "        else:\n",
    "            break"
   ]
  },
  {
   "cell_type": "code",
   "execution_count": null,
   "metadata": {},
   "outputs": [],
   "source": []
  }
 ],
 "metadata": {
  "kernelspec": {
   "display_name": "Python 3",
   "language": "python",
   "name": "python3"
  },
  "language_info": {
   "codemirror_mode": {
    "name": "ipython",
    "version": 3
   },
   "file_extension": ".py",
   "mimetype": "text/x-python",
   "name": "python",
   "nbconvert_exporter": "python",
   "pygments_lexer": "ipython3",
   "version": "3.11.2"
  },
  "orig_nbformat": 4
 },
 "nbformat": 4,
 "nbformat_minor": 2
}
